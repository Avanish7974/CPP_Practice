{
 "cells": [
  {
   "cell_type": "code",
   "execution_count": null,
   "metadata": {},
   "outputs": [
    {
     "name": "stdout",
     "output_type": "stream",
     "text": [
      "20\n"
     ]
    }
   ],
   "source": []
  },
  {
   "cell_type": "code",
   "execution_count": null,
   "metadata": {},
   "outputs": [
    {
     "name": "stdout",
     "output_type": "stream",
     "text": [
      "20\n",
      "20\n"
     ]
    }
   ],
   "source": [
    "loc_var=50\n",
    "\n",
    "def globals():\n",
    "    loc_var=20\n",
    "    print(loc_var)\n",
    "globals()   \n",
    "print(loc_var) "
   ]
  },
  {
   "cell_type": "code",
   "execution_count": null,
   "metadata": {},
   "outputs": [
    {
     "name": "stdout",
     "output_type": "stream",
     "text": [
      "Z bada hai\n"
     ]
    }
   ],
   "source": [
    "y = lambda x,z:print(\"X big\")if x>z else print(\"Z bada hai\")\n",
    "y(5,10)"
   ]
  },
  {
   "cell_type": "code",
   "execution_count": null,
   "metadata": {},
   "outputs": [],
   "source": []
  },
  {
   "cell_type": "code",
   "execution_count": 3,
   "metadata": {},
   "outputs": [
    {
     "name": "stdout",
     "output_type": "stream",
     "text": [
      "Palindrome number is :  121\n",
      "Palindrome number is :  131\n",
      "Palindrome number is :  141\n",
      "Palindrome number is :  151\n"
     ]
    }
   ],
   "source": [
    "n = int(input(\"Enter the number : \")) #105\n",
    "x = int(input(\"Enter the no. of palindrome : \"))\n",
    "n +=1\n",
    "cnt = 0\n",
    "while(cnt<x):\n",
    "    temp=n\n",
    "    rev=0\n",
    "    while(temp>0):\n",
    "        r = temp%10\n",
    "        rev=rev*10+r\n",
    "        temp = temp//10\n",
    "    if(rev==n):\n",
    "        print(\"Palindrome number is : \",rev)\n",
    "        cnt+=1\n",
    "    n+=1     "
   ]
  }
 ],
 "metadata": {
  "kernelspec": {
   "display_name": "Python 3",
   "language": "python",
   "name": "python3"
  },
  "language_info": {
   "codemirror_mode": {
    "name": "ipython",
    "version": 3
   },
   "file_extension": ".py",
   "mimetype": "text/x-python",
   "name": "python",
   "nbconvert_exporter": "python",
   "pygments_lexer": "ipython3",
   "version": "3.12.9"
  }
 },
 "nbformat": 4,
 "nbformat_minor": 2
}
